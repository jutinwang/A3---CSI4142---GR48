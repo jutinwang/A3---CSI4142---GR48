{
 "cells": [
  {
   "cell_type": "markdown",
   "metadata": {},
   "source": [
    "# CSI4142 - Group 48 - Assignment 3 - Part 2\n",
    "\n",
    "---\n",
    "\n",
    "## Introduction\n",
    "In this report, we perform an empirical study in which we evaluate a decision tree approach on a classification task.\n",
    "\n",
    "1. Clean the data \n",
    "2. (Optional) Groups different numerical values into bins or buckets \n",
    "3. Conduct an EDA (Exploritory Data Analysis) to visualize data and find outliers in the features using LOF (Local Outlier Factor)\n",
    "4. Explore the DecisionTreeClassifier method suggested in scikit-learn and choose a baseline setting by looking at the parameters (splitting criterion (gini, entropy), max_depth, min_samples_split, etc)\n",
    "5. Program a feature aggregator to create 2 additional features\n",
    "6. Conduct an empirical study\n",
    "7. Analyize the results\n",
    "8. Discuss the outliers and feature aggregation, as well as the results on the unseen test set compare to the cross-validation results\n",
    "\n",
    "#### Group 48 Members\n",
    "- Ali Bhangu - 300234254\n",
    "- Justin Wang - 300234186\n",
    "\n",
    "<br>\n",
    "\n",
    "---"
   ]
  }
 ],
 "metadata": {
  "language_info": {
   "name": "python"
  }
 },
 "nbformat": 4,
 "nbformat_minor": 2
}
